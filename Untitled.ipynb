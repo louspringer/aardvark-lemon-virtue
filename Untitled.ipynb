{
 "cells": [
  {
   "cell_type": "code",
   "execution_count": 1,
   "id": "b65be97f-e8e3-4870-9f2b-e95ed08228ff",
   "metadata": {},
   "outputs": [],
   "source": [
    "import jenkins"
   ]
  },
  {
   "cell_type": "code",
   "execution_count": 2,
   "id": "e8bafcf7-37b4-4115-b7b0-646b6b08d83f",
   "metadata": {},
   "outputs": [],
   "source": [
    "# Create a Jenkins instance\n",
    "server = jenkins.Jenkins('http://localhost:9000', username='lou', password='')"
   ]
  },
  {
   "cell_type": "code",
   "execution_count": 3,
   "id": "120ce378-13ef-49d2-974c-f4ad48eb2f20",
   "metadata": {},
   "outputs": [
    {
     "data": {
      "text/plain": [
       "[{'name': 'Built-In Node', 'offline': False},\n",
       " {'name': 'local', 'offline': True}]"
      ]
     },
     "execution_count": 3,
     "metadata": {},
     "output_type": "execute_result"
    }
   ],
   "source": [
    "server.get_nodes()"
   ]
  },
  {
   "cell_type": "code",
   "execution_count": 4,
   "id": "6e6ab21c",
   "metadata": {},
   "outputs": [
    {
     "data": {
      "text/plain": [
       "[{'_class': 'hudson.model.FreeStyleProject',\n",
       "  'name': 'Check Python Installation',\n",
       "  'url': 'http://pico.local:9000/job/Check%20Python%20Installation/',\n",
       "  'color': 'blue',\n",
       "  'fullname': 'Check Python Installation'},\n",
       " {'_class': 'hudson.model.FreeStyleProject',\n",
       "  'name': 'install-1password-ubuntu',\n",
       "  'url': 'http://pico.local:9000/job/install-1password-ubuntu/',\n",
       "  'color': 'notbuilt',\n",
       "  'fullname': 'install-1password-ubuntu'},\n",
       " {'_class': 'hudson.model.FreeStyleProject',\n",
       "  'name': 'install-vscode-server',\n",
       "  'url': 'http://pico.local:9000/job/install-vscode-server/',\n",
       "  'color': 'blue',\n",
       "  'fullname': 'install-vscode-server'},\n",
       " {'_class': 'org.jenkinsci.plugins.workflow.job.WorkflowJob',\n",
       "  'name': 'owasp-check',\n",
       "  'url': 'http://pico.local:9000/job/owasp-check/',\n",
       "  'color': 'notbuilt',\n",
       "  'fullname': 'owasp-check'},\n",
       " {'_class': 'hudson.model.FreeStyleProject',\n",
       "  'name': 'owasp-plugin-test',\n",
       "  'url': 'http://pico.local:9000/job/owasp-plugin-test/',\n",
       "  'color': 'red',\n",
       "  'fullname': 'owasp-plugin-test'},\n",
       " {'_class': 'hudson.model.FreeStyleProject',\n",
       "  'name': 'Reset Audio',\n",
       "  'url': 'http://pico.local:9000/job/Reset%20Audio/',\n",
       "  'color': 'blue',\n",
       "  'fullname': 'Reset Audio'},\n",
       " {'_class': 'hudson.model.FreeStyleProject',\n",
       "  'name': 'rm-env',\n",
       "  'url': 'http://pico.local:9000/job/rm-env/',\n",
       "  'color': 'red',\n",
       "  'fullname': 'rm-env'},\n",
       " {'_class': 'hudson.model.FreeStyleProject',\n",
       "  'name': 'run-vscode',\n",
       "  'url': 'http://pico.local:9000/job/run-vscode/',\n",
       "  'color': 'blue',\n",
       "  'fullname': 'run-vscode'},\n",
       " {'_class': 'hudson.model.FreeStyleProject',\n",
       "  'name': 'run-vscode-server',\n",
       "  'url': 'http://pico.local:9000/job/run-vscode-server/',\n",
       "  'color': 'red',\n",
       "  'fullname': 'run-vscode-server'},\n",
       " {'_class': 'hudson.model.FreeStyleProject',\n",
       "  'name': 'start-oracle-vm',\n",
       "  'url': 'http://pico.local:9000/job/start-oracle-vm/',\n",
       "  'color': 'notbuilt',\n",
       "  'fullname': 'start-oracle-vm'},\n",
       " {'_class': 'hudson.model.FreeStyleProject',\n",
       "  'name': 'test',\n",
       "  'url': 'http://pico.local:9000/job/test/',\n",
       "  'color': 'blue',\n",
       "  'fullname': 'test'}]"
      ]
     },
     "execution_count": 4,
     "metadata": {},
     "output_type": "execute_result"
    }
   ],
   "source": [
    "server.get_all_jobs()"
   ]
  },
  {
   "cell_type": "code",
   "execution_count": 5,
   "id": "2a2b10be",
   "metadata": {},
   "outputs": [
    {
     "data": {
      "text/plain": [
       "str"
      ]
     },
     "execution_count": 5,
     "metadata": {},
     "output_type": "execute_result"
    }
   ],
   "source": [
    "z=server.get_job_config('run-vscode')\n",
    "type(z)"
   ]
  },
  {
   "cell_type": "code",
   "execution_count": 6,
   "id": "1ea558ec-4d3c-472d-acda-fbe525b93331",
   "metadata": {},
   "outputs": [
    {
     "data": {
      "text/plain": [
       "'<?xml version=\\'1.1\\' encoding=\\'UTF-8\\'?>\\n<project>\\n  <actions/>\\n  <description></description>\\n  <keepDependencies>false</keepDependencies>\\n  <properties/>\\n  <scm class=\"hudson.scm.NullSCM\"/>\\n  <canRoam>true</canRoam>\\n  <disabled>false</disabled>\\n  <blockBuildWhenDownstreamBuilding>false</blockBuildWhenDownstreamBuilding>\\n  <blockBuildWhenUpstreamBuilding>false</blockBuildWhenUpstreamBuilding>\\n  <triggers/>\\n  <concurrentBuild>false</concurrentBuild>\\n  <builders>\\n    <hudson.tasks.Shell>\\n      <command>/usr/local/bin/code --remote tunnel+raven-clove-wisdom /home/ubuntu/langgraph-course</command>\\n      <configuredLocalRules/>\\n    </hudson.tasks.Shell>\\n  </builders>\\n  <publishers/>\\n  <buildWrappers/>\\n</project>'"
      ]
     },
     "execution_count": 6,
     "metadata": {},
     "output_type": "execute_result"
    }
   ],
   "source": [
    "z"
   ]
  },
  {
   "cell_type": "code",
   "execution_count": 7,
   "id": "a941fca6-ae1f-4a88-8f2d-f6b89b89f81e",
   "metadata": {},
   "outputs": [],
   "source": [
    "import xml"
   ]
  },
  {
   "cell_type": "code",
   "execution_count": 8,
   "id": "2e47aab9-fb23-428a-93d7-eb19ce3e5cc3",
   "metadata": {},
   "outputs": [],
   "source": [
    "p = xml.parsers.expat.ParserCreate()"
   ]
  },
  {
   "cell_type": "code",
   "execution_count": 9,
   "id": "10fb8103-150b-42ec-b36a-0b6e0b6f2f30",
   "metadata": {},
   "outputs": [
    {
     "data": {
      "text/plain": [
       "1"
      ]
     },
     "execution_count": 9,
     "metadata": {},
     "output_type": "execute_result"
    }
   ],
   "source": [
    "p.Parse(z)"
   ]
  },
  {
   "cell_type": "code",
   "execution_count": 10,
   "id": "afb7a11d-eca7-4f48-8cbe-7a64f392f110",
   "metadata": {},
   "outputs": [
    {
     "name": "stdout",
     "output_type": "stream",
     "text": [
      "Parsed Data 1: {'name': 'note', 'attributes': {}, 'children': [{'name': 'to', 'attributes': {}, 'children': [], 'text': 'Tove'}, {'name': 'body', 'attributes': {}, 'children': [], 'text': 'Message 1'}]}\n",
      "Parsed Data 2: {'name': 'note', 'attributes': {}, 'children': [{'name': 'to', 'attributes': {}, 'children': [], 'text': 'Janet'}, {'name': 'body', 'attributes': {}, 'children': [], 'text': 'Hello there!'}]}\n"
     ]
    }
   ],
   "source": [
    "import xml.parsers.expat\n",
    "\n",
    "class XMLParser:\n",
    "    def __init__(self):\n",
    "        # No state is maintained between uses.\n",
    "        pass\n",
    "\n",
    "    def parse(self, xml_string):\n",
    "        parser = xml.parsers.expat.ParserCreate()\n",
    "        stack = []\n",
    "        root = None\n",
    "\n",
    "        def start_element(name, attrs):\n",
    "            element = {'name': name, 'attributes': attrs, 'children': [], 'text': ''}\n",
    "            if not stack:\n",
    "                nonlocal root\n",
    "                root = element\n",
    "            else:\n",
    "                stack[-1]['children'].append(element)\n",
    "            stack.append(element)\n",
    "\n",
    "        def end_element(name):\n",
    "            element = stack.pop()\n",
    "            if element['children']:\n",
    "                if not element['text'].strip():\n",
    "                    element.pop('text', None)\n",
    "            else:\n",
    "                element['text'] = element['text'].strip()\n",
    "\n",
    "        def char_data(data):\n",
    "            if data.strip():\n",
    "                stack[-1]['text'] += data\n",
    "\n",
    "        parser.StartElementHandler = start_element\n",
    "        parser.EndElementHandler = end_element\n",
    "        parser.CharacterDataHandler = char_data\n",
    "\n",
    "        parser.Parse(xml_string, 1)\n",
    "        return root\n",
    "\n",
    "# Usage example\n",
    "parser = XMLParser()\n",
    "xml_data1 = \"<note><to>Tove</to><body>Message 1</body></note>\"\n",
    "parsed_data1 = parser.parse(xml_data1)\n",
    "print(\"Parsed Data 1:\", parsed_data1)\n",
    "\n",
    "xml_data2 = \"<note><to>Janet</to><body>Hello there!</body></note>\"\n",
    "parsed_data2 = parser.parse(xml_data2)\n",
    "print(\"Parsed Data 2:\", parsed_data2)\n"
   ]
  },
  {
   "cell_type": "code",
   "execution_count": 11,
   "id": "b038fccb-e547-4df1-bce2-402f123d0af6",
   "metadata": {},
   "outputs": [
    {
     "data": {
      "text/plain": [
       "{'name': 'project',\n",
       " 'attributes': {},\n",
       " 'children': [{'name': 'actions',\n",
       "   'attributes': {},\n",
       "   'children': [],\n",
       "   'text': ''},\n",
       "  {'name': 'description', 'attributes': {}, 'children': [], 'text': ''},\n",
       "  {'name': 'keepDependencies',\n",
       "   'attributes': {},\n",
       "   'children': [],\n",
       "   'text': 'false'},\n",
       "  {'name': 'properties', 'attributes': {}, 'children': [], 'text': ''},\n",
       "  {'name': 'scm',\n",
       "   'attributes': {'class': 'hudson.scm.NullSCM'},\n",
       "   'children': [],\n",
       "   'text': ''},\n",
       "  {'name': 'canRoam', 'attributes': {}, 'children': [], 'text': 'true'},\n",
       "  {'name': 'disabled', 'attributes': {}, 'children': [], 'text': 'false'},\n",
       "  {'name': 'blockBuildWhenDownstreamBuilding',\n",
       "   'attributes': {},\n",
       "   'children': [],\n",
       "   'text': 'false'},\n",
       "  {'name': 'blockBuildWhenUpstreamBuilding',\n",
       "   'attributes': {},\n",
       "   'children': [],\n",
       "   'text': 'false'},\n",
       "  {'name': 'triggers', 'attributes': {}, 'children': [], 'text': ''},\n",
       "  {'name': 'concurrentBuild',\n",
       "   'attributes': {},\n",
       "   'children': [],\n",
       "   'text': 'false'},\n",
       "  {'name': 'builders',\n",
       "   'attributes': {},\n",
       "   'children': [{'name': 'hudson.tasks.Shell',\n",
       "     'attributes': {},\n",
       "     'children': [{'name': 'command',\n",
       "       'attributes': {},\n",
       "       'children': [],\n",
       "       'text': '/usr/local/bin/code --remote tunnel+raven-clove-wisdom /home/ubuntu/langgraph-course'},\n",
       "      {'name': 'configuredLocalRules',\n",
       "       'attributes': {},\n",
       "       'children': [],\n",
       "       'text': ''}]}]},\n",
       "  {'name': 'publishers', 'attributes': {}, 'children': [], 'text': ''},\n",
       "  {'name': 'buildWrappers', 'attributes': {}, 'children': [], 'text': ''}]}"
      ]
     },
     "execution_count": 11,
     "metadata": {},
     "output_type": "execute_result"
    }
   ],
   "source": [
    "#parser = XMLParser()\n",
    "parsed_dict = parser.parse(z)   \n",
    "parsed_dict"
   ]
  },
  {
   "cell_type": "code",
   "execution_count": 12,
   "id": "217186dd-11d5-4b0e-a12f-5c9241249f51",
   "metadata": {},
   "outputs": [
    {
     "data": {
      "text/plain": [
       "<pyexpat.xmlparser at 0x107cdf460>"
      ]
     },
     "execution_count": 12,
     "metadata": {},
     "output_type": "execute_result"
    }
   ],
   "source": [
    "p"
   ]
  },
  {
   "cell_type": "code",
   "execution_count": 14,
   "id": "2b5d1741-a2d1-479a-be4b-f1527c643b09",
   "metadata": {},
   "outputs": [
    {
     "data": {
      "text/plain": [
       "{'name': 'note',\n",
       " 'attributes': {},\n",
       " 'children': [{'name': 'to', 'attributes': {}, 'children': [], 'text': 'Tove'},\n",
       "  {'name': 'body', 'attributes': {}, 'children': [], 'text': 'Message 1'}]}"
      ]
     },
     "execution_count": 14,
     "metadata": {},
     "output_type": "execute_result"
    }
   ],
   "source": [
    "parser.parse(\"<note><to>Tove</to><body>Message 1</body></note>\")"
   ]
  },
  {
   "cell_type": "code",
   "execution_count": null,
   "id": "3c3f8adf-3dd9-4c00-9afc-19d528f9f514",
   "metadata": {},
   "outputs": [],
   "source": []
  }
 ],
 "metadata": {
  "kernelspec": {
   "display_name": "aardvark-lemon-virtue",
   "language": "python",
   "name": "python3"
  },
  "language_info": {
   "codemirror_mode": {
    "name": "ipython",
    "version": 3
   },
   "file_extension": ".py",
   "mimetype": "text/x-python",
   "name": "python",
   "nbconvert_exporter": "python",
   "pygments_lexer": "ipython3",
   "version": "3.12.7"
  }
 },
 "nbformat": 4,
 "nbformat_minor": 5
}
