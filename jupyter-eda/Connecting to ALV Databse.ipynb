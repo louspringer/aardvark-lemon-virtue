{
 "cells": [
  {
   "cell_type": "code",
   "execution_count": 1,
   "id": "3e1078df-4177-45ac-97a8-eb240b32fe60",
   "metadata": {},
   "outputs": [
    {
     "name": "stderr",
     "output_type": "stream",
     "text": [
      "/tmp/ipykernel_39009/844797126.py:16: UserWarning: pandas only supports SQLAlchemy connectable (engine/connection) or database string URI or sqlite3 DBAPI2 connection. Other DBAPI2 objects are not tested. Please consider using SQLAlchemy.\n",
      "  df = pd.read_sql(\"SELECT * FROM raw_jobs\", con)\n"
     ]
    },
    {
     "data": {
      "text/html": [
       "<div>\n",
       "<style scoped>\n",
       "    .dataframe tbody tr th:only-of-type {\n",
       "        vertical-align: middle;\n",
       "    }\n",
       "\n",
       "    .dataframe tbody tr th {\n",
       "        vertical-align: top;\n",
       "    }\n",
       "\n",
       "    .dataframe thead th {\n",
       "        text-align: right;\n",
       "    }\n",
       "</style>\n",
       "<table border=\"1\" class=\"dataframe\">\n",
       "  <thead>\n",
       "    <tr style=\"text-align: right;\">\n",
       "      <th></th>\n",
       "      <th>JOB_PK</th>\n",
       "      <th>REQUEST_PK</th>\n",
       "      <th>JSON_RESPONSE</th>\n",
       "      <th>CREATED_AT</th>\n",
       "    </tr>\n",
       "  </thead>\n",
       "  <tbody>\n",
       "  </tbody>\n",
       "</table>\n",
       "</div>"
      ],
      "text/plain": [
       "Empty DataFrame\n",
       "Columns: [JOB_PK, REQUEST_PK, JSON_RESPONSE, CREATED_AT]\n",
       "Index: []"
      ]
     },
     "execution_count": 1,
     "metadata": {},
     "output_type": "execute_result"
    }
   ],
   "source": [
    "import pandas as pd\n",
    "from sqlalchemy import create_engine\n",
    "from snowflake.sqlalchemy import URL\n",
    "import snowflake \n",
    "\n",
    "df = None\n",
    "with snowflake.connector.connect(\n",
    "    user=\"louspringer\",\n",
    "    account='CFCLGQP-HQB93436',\n",
    "    private_key_file='/home/lou/snow-keys/rsa_key.p8',\n",
    "    warehouse=\"PRD_ALV_WAREHOUSE\",\n",
    "    database=\"PRD_ALV\",        \n",
    "    schema='QUERY_LINKEDIN',\n",
    "    role='ALV_PROD_ROLE',\n",
    ") as con:\n",
    "    df = pd.read_sql(\"SELECT * FROM raw_jobs\", con)\n",
    "df"
   ]
  },
  {
   "cell_type": "code",
   "execution_count": 2,
   "id": "e9ab6d22-8a21-4f0f-8da6-49297dffeb3c",
   "metadata": {},
   "outputs": [],
   "source": [
    "from snowflake.snowpark import Session"
   ]
  },
  {
   "cell_type": "code",
   "execution_count": 3,
   "id": "6e2649cb-8944-4ae6-8a5a-d2ddd5562ac8",
   "metadata": {},
   "outputs": [],
   "source": [
    "# >>> connection_parameters = {\n",
    "# ...    \"account\": \"<your snowflake account>\",\n",
    "# ...    \"user\": \"<your snowflake user>\",\n",
    "# ...    \"password\": \"<your snowflake password>\",\n",
    "# ...    \"role\": \"<your snowflake role>\",  # optional\n",
    "# ...    \"warehouse\": \"<your snowflake warehouse>\",  # optional\n",
    "# ...    \"database\": \"<your snowflake database>\",  # optional\n",
    "# ...    \"schema\": \"<your snowflake schema>\",  # optional\n",
    "# ...  }  \n",
    "\n",
    "# >>> new_session = Session.builder.configs(connection_parameters).create()\n",
    "connection_parameters = {\n",
    "    \"user\":\"louspringer\",\n",
    "    \"account\":'CFCLGQP-HQB93436',\n",
    "    \"private_key_file\":'/home/lou/snow-keys/rsa_key.p8',\n",
    "    \"warehouse\":\"PRD_ALV_WAREHOUSE\",\n",
    "    \"database\":\"PRD_ALV\",        \n",
    "    \"schema\":'QUERY_LINKEDIN',\n",
    "    \"role\":'ALV_PROD_ROLE',\n",
    "}"
   ]
  },
  {
   "cell_type": "code",
   "execution_count": 4,
   "id": "15806ac5-432c-4a18-8c19-a8baf4797fc4",
   "metadata": {},
   "outputs": [],
   "source": [
    "session = Session.builder.configs(connection_parameters).create()"
   ]
  },
  {
   "cell_type": "code",
   "execution_count": 5,
   "id": "2212369c-c9a8-4f4b-b849-f53a731486bd",
   "metadata": {},
   "outputs": [
    {
     "data": {
      "text/plain": [
       "[Row(status='Table SAMPLE_PRODUCT_DATA successfully created.')]"
      ]
     },
     "execution_count": 5,
     "metadata": {},
     "output_type": "execute_result"
    }
   ],
   "source": [
    "# Assuming 'session' is already created and configured appropriately\n",
    "\n",
    "# Create the table\n",
    "session.sql(\"\"\"\n",
    "CREATE OR REPLACE TABLE sample_product_data (\n",
    "    id INT,\n",
    "    parent_id INT,\n",
    "    category_id INT,\n",
    "    name VARCHAR,\n",
    "    serial_number VARCHAR,\n",
    "    key INT,\n",
    "    \"3rd\" INT\n",
    ")\n",
    "\"\"\").collect()\n"
   ]
  },
  {
   "cell_type": "code",
   "execution_count": 6,
   "id": "f27ad061-dea3-4f94-97a8-4cd7fd4b9a85",
   "metadata": {},
   "outputs": [
    {
     "data": {
      "text/plain": [
       "[Row(number of rows inserted=12)]"
      ]
     },
     "execution_count": 6,
     "metadata": {},
     "output_type": "execute_result"
    }
   ],
   "source": [
    "\n",
    "# Insert data into the table\n",
    "session.sql(\"\"\"\n",
    "INSERT INTO sample_product_data VALUES\n",
    "    (1, 0, 5, 'Product 1', 'prod-1', 1, 10),\n",
    "    (2, 1, 5, 'Product 1A', 'prod-1-A', 1, 20),\n",
    "    (3, 1, 5, 'Product 1B', 'prod-1-B', 1, 30),\n",
    "    (4, 0, 10, 'Product 2', 'prod-2', 2, 40),\n",
    "    (5, 4, 10, 'Product 2A', 'prod-2-A', 2, 50),\n",
    "    (6, 4, 10, 'Product 2B', 'prod-2-B', 2, 60),\n",
    "    (7, 0, 20, 'Product 3', 'prod-3', 3, 70),\n",
    "    (8, 7, 20, 'Product 3A', 'prod-3-A', 3, 80),\n",
    "    (9, 7, 20, 'Product 3B', 'prod-3-B', 3, 90),\n",
    "    (10, 0, 50, 'Product 4', 'prod-4', 4, 100),\n",
    "    (11, 10, 50, 'Product 4A', 'prod-4-A', 4, 100),\n",
    "    (12, 10, 50, 'Product 4B', 'prod-4-B', 4, 100)\n",
    "\"\"\").collect()\n"
   ]
  },
  {
   "cell_type": "code",
   "execution_count": 7,
   "id": "f0dcea5f-b134-41a0-886b-3c0497c78128",
   "metadata": {},
   "outputs": [],
   "source": [
    "df_table = session.table(\"sample_product_data\")"
   ]
  },
  {
   "cell_type": "code",
   "execution_count": 8,
   "id": "296a484a-2633-45dd-83d4-f1bf0c9ce152",
   "metadata": {},
   "outputs": [
    {
     "data": {
      "text/html": [
       "<div>\n",
       "<style scoped>\n",
       "    .dataframe tbody tr th:only-of-type {\n",
       "        vertical-align: middle;\n",
       "    }\n",
       "\n",
       "    .dataframe tbody tr th {\n",
       "        vertical-align: top;\n",
       "    }\n",
       "\n",
       "    .dataframe thead th {\n",
       "        text-align: right;\n",
       "    }\n",
       "</style>\n",
       "<table border=\"1\" class=\"dataframe\">\n",
       "  <thead>\n",
       "    <tr style=\"text-align: right;\">\n",
       "      <th></th>\n",
       "      <th>ID</th>\n",
       "      <th>PARENT_ID</th>\n",
       "      <th>CATEGORY_ID</th>\n",
       "      <th>NAME</th>\n",
       "      <th>SERIAL_NUMBER</th>\n",
       "      <th>KEY</th>\n",
       "      <th>3rd</th>\n",
       "    </tr>\n",
       "  </thead>\n",
       "  <tbody>\n",
       "    <tr>\n",
       "      <th>0</th>\n",
       "      <td>1</td>\n",
       "      <td>0</td>\n",
       "      <td>5</td>\n",
       "      <td>Product 1</td>\n",
       "      <td>prod-1</td>\n",
       "      <td>1</td>\n",
       "      <td>10</td>\n",
       "    </tr>\n",
       "    <tr>\n",
       "      <th>1</th>\n",
       "      <td>2</td>\n",
       "      <td>1</td>\n",
       "      <td>5</td>\n",
       "      <td>Product 1A</td>\n",
       "      <td>prod-1-A</td>\n",
       "      <td>1</td>\n",
       "      <td>20</td>\n",
       "    </tr>\n",
       "    <tr>\n",
       "      <th>2</th>\n",
       "      <td>3</td>\n",
       "      <td>1</td>\n",
       "      <td>5</td>\n",
       "      <td>Product 1B</td>\n",
       "      <td>prod-1-B</td>\n",
       "      <td>1</td>\n",
       "      <td>30</td>\n",
       "    </tr>\n",
       "    <tr>\n",
       "      <th>3</th>\n",
       "      <td>4</td>\n",
       "      <td>0</td>\n",
       "      <td>10</td>\n",
       "      <td>Product 2</td>\n",
       "      <td>prod-2</td>\n",
       "      <td>2</td>\n",
       "      <td>40</td>\n",
       "    </tr>\n",
       "    <tr>\n",
       "      <th>4</th>\n",
       "      <td>5</td>\n",
       "      <td>4</td>\n",
       "      <td>10</td>\n",
       "      <td>Product 2A</td>\n",
       "      <td>prod-2-A</td>\n",
       "      <td>2</td>\n",
       "      <td>50</td>\n",
       "    </tr>\n",
       "    <tr>\n",
       "      <th>5</th>\n",
       "      <td>6</td>\n",
       "      <td>4</td>\n",
       "      <td>10</td>\n",
       "      <td>Product 2B</td>\n",
       "      <td>prod-2-B</td>\n",
       "      <td>2</td>\n",
       "      <td>60</td>\n",
       "    </tr>\n",
       "    <tr>\n",
       "      <th>6</th>\n",
       "      <td>7</td>\n",
       "      <td>0</td>\n",
       "      <td>20</td>\n",
       "      <td>Product 3</td>\n",
       "      <td>prod-3</td>\n",
       "      <td>3</td>\n",
       "      <td>70</td>\n",
       "    </tr>\n",
       "    <tr>\n",
       "      <th>7</th>\n",
       "      <td>8</td>\n",
       "      <td>7</td>\n",
       "      <td>20</td>\n",
       "      <td>Product 3A</td>\n",
       "      <td>prod-3-A</td>\n",
       "      <td>3</td>\n",
       "      <td>80</td>\n",
       "    </tr>\n",
       "    <tr>\n",
       "      <th>8</th>\n",
       "      <td>9</td>\n",
       "      <td>7</td>\n",
       "      <td>20</td>\n",
       "      <td>Product 3B</td>\n",
       "      <td>prod-3-B</td>\n",
       "      <td>3</td>\n",
       "      <td>90</td>\n",
       "    </tr>\n",
       "    <tr>\n",
       "      <th>9</th>\n",
       "      <td>10</td>\n",
       "      <td>0</td>\n",
       "      <td>50</td>\n",
       "      <td>Product 4</td>\n",
       "      <td>prod-4</td>\n",
       "      <td>4</td>\n",
       "      <td>100</td>\n",
       "    </tr>\n",
       "    <tr>\n",
       "      <th>10</th>\n",
       "      <td>11</td>\n",
       "      <td>10</td>\n",
       "      <td>50</td>\n",
       "      <td>Product 4A</td>\n",
       "      <td>prod-4-A</td>\n",
       "      <td>4</td>\n",
       "      <td>100</td>\n",
       "    </tr>\n",
       "    <tr>\n",
       "      <th>11</th>\n",
       "      <td>12</td>\n",
       "      <td>10</td>\n",
       "      <td>50</td>\n",
       "      <td>Product 4B</td>\n",
       "      <td>prod-4-B</td>\n",
       "      <td>4</td>\n",
       "      <td>100</td>\n",
       "    </tr>\n",
       "  </tbody>\n",
       "</table>\n",
       "</div>"
      ],
      "text/plain": [
       "    ID  PARENT_ID  CATEGORY_ID        NAME SERIAL_NUMBER  KEY  3rd\n",
       "0    1          0            5   Product 1        prod-1    1   10\n",
       "1    2          1            5  Product 1A      prod-1-A    1   20\n",
       "2    3          1            5  Product 1B      prod-1-B    1   30\n",
       "3    4          0           10   Product 2        prod-2    2   40\n",
       "4    5          4           10  Product 2A      prod-2-A    2   50\n",
       "5    6          4           10  Product 2B      prod-2-B    2   60\n",
       "6    7          0           20   Product 3        prod-3    3   70\n",
       "7    8          7           20  Product 3A      prod-3-A    3   80\n",
       "8    9          7           20  Product 3B      prod-3-B    3   90\n",
       "9   10          0           50   Product 4        prod-4    4  100\n",
       "10  11         10           50  Product 4A      prod-4-A    4  100\n",
       "11  12         10           50  Product 4B      prod-4-B    4  100"
      ]
     },
     "execution_count": 8,
     "metadata": {},
     "output_type": "execute_result"
    }
   ],
   "source": [
    "df_table.toPandas()"
   ]
  },
  {
   "cell_type": "code",
   "execution_count": null,
   "id": "93b5d0b6-bc27-48b8-a197-66fc14e92f8d",
   "metadata": {},
   "outputs": [],
   "source": []
  },
  {
   "cell_type": "code",
   "execution_count": null,
   "id": "a9590813-fb21-47f2-a741-3d93da978707",
   "metadata": {},
   "outputs": [],
   "source": []
  },
  {
   "cell_type": "code",
   "execution_count": null,
   "id": "6a5dae21-92bd-417e-9a5b-873145317790",
   "metadata": {},
   "outputs": [],
   "source": []
  },
  {
   "cell_type": "code",
   "execution_count": null,
   "id": "c3cef019-eef3-44df-95a5-4fa6e6577b9a",
   "metadata": {},
   "outputs": [],
   "source": []
  },
  {
   "cell_type": "code",
   "execution_count": 21,
   "id": "045011d0-730e-4412-b435-e3bdd0313e06",
   "metadata": {},
   "outputs": [],
   "source": [
    "from snowflake.sqlalchemy import URL\n",
    "from sqlalchemy import create_engine\n",
    "\n",
    "from cryptography.hazmat.backends import default_backend\n",
    "from cryptography.hazmat.primitives.asymmetric import rsa\n",
    "from cryptography.hazmat.primitives.asymmetric import dsa\n",
    "from cryptography.hazmat.primitives import serialization\n",
    "\n",
    "with open(\"/home/lou/snow-keys/rsa_key.p8\", \"rb\") as key:\n",
    "    p_key= serialization.load_pem_private_key(\n",
    "        key.read(),\n",
    "        password=None,\n",
    "        backend=default_backend()\n",
    "    )\n",
    "\n",
    "pkb = p_key.private_bytes(\n",
    "    encoding=serialization.Encoding.DER,\n",
    "    format=serialization.PrivateFormat.PKCS8,\n",
    "    encryption_algorithm=serialization.NoEncryption())\n",
    "\n",
    "engine = create_engine(URL(\n",
    "    account='CFCLGQP-HQB93436',\n",
    "    user='louspringer',\n",
    "    ),\n",
    "    connect_args={\n",
    "        'private_key': pkb,\n",
    "        },\n",
    "    )"
   ]
  },
  {
   "cell_type": "code",
   "execution_count": 22,
   "id": "14f611f3-5346-48e6-9c9e-e1f3a99ae9ca",
   "metadata": {},
   "outputs": [
    {
     "name": "stderr",
     "output_type": "stream",
     "text": [
      "/tmp/ipykernel_132784/527860910.py:1: RemovedIn20Warning: Deprecated API features detected! These feature(s) are not compatible with SQLAlchemy 2.0. To prevent incompatible upgrades prior to updating applications, ensure requirements files are pinned to \"sqlalchemy<2.0\". Set environment variable SQLALCHEMY_WARN_20=1 to show all deprecation warnings.  Set environment variable SQLALCHEMY_SILENCE_UBER_WARNING=1 to silence this message. (Background on SQLAlchemy 2.0 at: https://sqlalche.me/e/b8d9)\n",
      "  engine.execute(\"select * from prd_alv.query_linkedin.job_listings\")\n"
     ]
    },
    {
     "data": {
      "text/plain": [
       "<sqlalchemy.engine.cursor.LegacyCursorResult at 0x7fdb07ef9c90>"
      ]
     },
     "execution_count": 22,
     "metadata": {},
     "output_type": "execute_result"
    }
   ],
   "source": [
    "engine.execute(\"select * from prd_alv.query_linkedin.job_listings\")"
   ]
  },
  {
   "cell_type": "code",
   "execution_count": 23,
   "id": "c5558ebf-4b53-4130-b62f-958955333738",
   "metadata": {},
   "outputs": [],
   "source": [
    "connection = engine.connect()"
   ]
  },
  {
   "cell_type": "markdown",
   "id": "f0e8f90d-ce5e-47ed-abef-ad4e08fedc92",
   "metadata": {
    "editable": true,
    "slideshow": {
     "slide_type": ""
    },
    "tags": []
   },
   "source": [
    "## JDBC Connectivity"
   ]
  },
  {
   "cell_type": "code",
   "execution_count": 9,
   "id": "1e0ebb3b-94a3-4c76-a64e-ba4d8f72b5b2",
   "metadata": {},
   "outputs": [
    {
     "name": "stdout",
     "output_type": "stream",
     "text": [
      "Connection successful!\n"
     ]
    }
   ],
   "source": [
    "# user=\"louspringer\",\n",
    "# account='CFCLGQP-HQB93436',\n",
    "# private_key_file='/home/lou/snow-keys/rsa_key.p8',\n",
    "# warehouse=\"PRD_ALV_WAREHOUSE\",\n",
    "# database=\"PRD_ALV\",        \n",
    "# schema='QUERY_LINKEDIN',\n",
    "# role='ALV_PROD_ROLE',\n",
    "\n",
    "import snowflake.connector\n",
    "\n",
    "class SnowflakeJDBCExample:\n",
    "    def __init__(self):\n",
    "        self.account = \"CFCLGQP-HQB93436\"\n",
    "        self.user = \"louspringer\"\n",
    "        self.private_key_path = \"/home/lou/snow-keys/rsa_key.p8\"\n",
    "        self.role = \"ALV_PROD_ROLE\"\n",
    "        self.warehouse = \"PRD_ALV_WAREHOUSE\"\n",
    "        self.database = \"PRD_ALV\"\n",
    "        self.schema = \"QUERY_LINKEDIN\"\n",
    "\n",
    "    def connect(self):\n",
    "        try:\n",
    "            # Establish the connection\n",
    "            conn = snowflake.connector.connect(\n",
    "                account=self.account,\n",
    "                user=self.user,\n",
    "                private_key_file=self.private_key_path,\n",
    "                role=self.role,\n",
    "                warehouse=self.warehouse,\n",
    "                database=self.database,\n",
    "                schema=self.schema\n",
    "            )\n",
    "            print(\"Connection successful!\")\n",
    "            # Use the connection (for example, execute a query)\n",
    "            # cursor = conn.cursor()\n",
    "            # cursor.execute(\"SELECT CURRENT_TIMESTAMP()\")\n",
    "            # for row in cursor:\n",
    "            #     print(row)\n",
    "        except Exception as e:\n",
    "            print(f\"An error occurred: {e}\")\n",
    "\n",
    "if __name__ == \"__main__\":\n",
    "    example = SnowflakeJDBCExample()\n",
    "    example.connect()\n"
   ]
  },
  {
   "cell_type": "code",
   "execution_count": null,
   "id": "61fb5279-467a-4f36-b424-cf6d72989884",
   "metadata": {},
   "outputs": [],
   "source": []
  },
  {
   "cell_type": "code",
   "execution_count": null,
   "id": "498c7bda-2983-49bb-a9ce-5fb49147ea2d",
   "metadata": {},
   "outputs": [],
   "source": []
  }
 ],
 "metadata": {
  "kernelspec": {
   "display_name": "Python 3 (ipykernel)",
   "language": "python",
   "name": "python3"
  },
  "language_info": {
   "codemirror_mode": {
    "name": "ipython",
    "version": 3
   },
   "file_extension": ".py",
   "mimetype": "text/x-python",
   "name": "python",
   "nbconvert_exporter": "python",
   "pygments_lexer": "ipython3",
   "version": "3.10.14"
  }
 },
 "nbformat": 4,
 "nbformat_minor": 5
}
